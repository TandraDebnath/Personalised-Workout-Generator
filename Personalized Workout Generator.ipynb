{
  "nbformat": 4,
  "nbformat_minor": 0,
  "metadata": {
    "colab": {
      "provenance": []
    },
    "kernelspec": {
      "name": "python3",
      "display_name": "Python 3"
    },
    "language_info": {
      "name": "python"
    }
  },
  "cells": [
    {
      "cell_type": "code",
      "source": [
        "import random\n",
        "\n",
        "# Step 1: Define workout database\n",
        "workouts = {\n",
        "    \"weight_loss\": {\n",
        "        \"beginner\": [\"Jumping Jacks\", \"Bodyweight Squats\", \"Knee Push-ups\", \"Mountain Climbers\", \"Plank (20 sec)\"],\n",
        "        \"intermediate\": [\"Burpees\", \"Push-ups\", \"Lunges\", \"High Knees\", \"Plank (45 sec)\"],\n",
        "        \"advanced\": [\"Jump Squats\", \"Pull-ups\", \"Pistol Squats\", \"Handstand Hold\", \"Burpee Pull-ups\"]\n",
        "    },\n",
        "    \"muscle_gain\": {\n",
        "        \"beginner\": [\"Push-ups\", \"Bodyweight Squats\", \"Glute Bridges\", \"Chair Dips\", \"Bicep Curls (if weights)\"],\n",
        "        \"intermediate\": [\"Bench Press\", \"Deadlifts\", \"Pull-ups\", \"Overhead Press\", \"Weighted Squats\"],\n",
        "        \"advanced\": [\"Weighted Pull-ups\", \"Front Squats\", \"Incline Bench Press\", \"Barbell Rows\", \"Clean & Press\"]\n",
        "    },\n",
        "    \"flexibility\": {\n",
        "        \"beginner\": [\"Cat-Cow Stretch\", \"Seated Forward Bend\", \"Neck Rolls\", \"Standing Side Stretch\", \"Child's Pose\"],\n",
        "        \"intermediate\": [\"Downward Dog\", \"Pigeon Pose\", \"Cobra Stretch\", \"Lunge Stretch\", \"Seated Twist\"],\n",
        "        \"advanced\": [\"Full Splits\", \"Bridge Pose\", \"King Pigeon\", \"Wheel Pose\", \"Standing Forward Fold (deep)\"]\n",
        "    },\n",
        "    \"endurance\": {\n",
        "        \"beginner\": [\"Jog in Place (5 min)\", \"Jump Rope (1 min)\", \"Step Ups\", \"Bodyweight Squats\", \"Push-ups\"],\n",
        "        \"intermediate\": [\"Running (10 min)\", \"Burpees\", \"Mountain Climbers\", \"Plank to Push-up\", \"Jumping Lunges\"],\n",
        "        \"advanced\": [\"Sprints\", \"Pull-ups\", \"Burpee Pull-ups\", \"Pistol Squats\", \"Clap Push-ups\"]\n",
        "    }\n",
        "}\n",
        "\n",
        "# Step 2: Ask user inputs\n",
        "goal = input(\"Enter your goal (weight_loss/muscle_gain/flexibility/endurance): \").lower()\n",
        "level = input(\"Enter your fitness level (beginner/intermediate/advanced): \").lower()\n",
        "time = int(input(\"How many minutes can you workout per day? \"))\n",
        "equipment = input(\"Do you have gym equipment? (yes/no): \").lower()\n",
        "\n",
        "# Step 3: Adjust workout list if no equipment\n",
        "if equipment == \"no\":\n",
        "    for g in workouts:\n",
        "        for l in workouts[g]:\n",
        "            workouts[g][l] = [ex for ex in workouts[g][l] if \"(\" not in ex and \"weights\" not in ex.lower()]\n",
        "\n",
        "# Step 4: Pick exercises\n",
        "if goal in workouts and level in workouts[goal]:\n",
        "    plan = random.sample(workouts[goal][level], k=min(5, len(workouts[goal][level])))\n",
        "    print(\"\\nYour Personalized Workout Plan:\")\n",
        "    for i, ex in enumerate(plan, start=1):\n",
        "        print(f\"{i}. {ex} - {time//len(plan)} min\")\n",
        "else:\n",
        "    print(\"Invalid goal or level. Please try again.\")"
      ],
      "metadata": {
        "colab": {
          "base_uri": "https://localhost:8080/"
        },
        "id": "gRbbZpUIsNPs",
        "outputId": "d25109c9-593b-40a6-90d1-73396766b061"
      },
      "execution_count": 5,
      "outputs": [
        {
          "output_type": "stream",
          "name": "stdout",
          "text": [
            "Enter your goal (weight_loss/muscle_gain/flexibility/endurance): endurance\n",
            "Enter your fitness level (beginner/intermediate/advanced): beginner\n",
            "How many minutes can you workout per day? 40\n",
            "Do you have gym equipment? (yes/no): yes\n",
            "\n",
            "Your Personalized Workout Plan:\n",
            "1. Jump Rope (1 min) - 8 min\n",
            "2. Bodyweight Squats - 8 min\n",
            "3. Step Ups - 8 min\n",
            "4. Push-ups - 8 min\n",
            "5. Jog in Place (5 min) - 8 min\n"
          ]
        }
      ]
    }
  ]
}